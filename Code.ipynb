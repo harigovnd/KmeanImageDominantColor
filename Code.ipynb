{
 "cells": [
  {
   "cell_type": "markdown",
   "id": "3da8193b",
   "metadata": {},
   "source": [
    "Use k-means clustering for image segmentation and to identify dominant color in the image"
   ]
  },
  {
   "cell_type": "code",
   "execution_count": 1,
   "id": "acf3f99d",
   "metadata": {},
   "outputs": [],
   "source": [
    "from PIL import Image\n",
    "import matplotlib.pyplot as plt"
   ]
  },
  {
   "cell_type": "code",
   "execution_count": 2,
   "id": "39dad535",
   "metadata": {},
   "outputs": [],
   "source": [
    "img = Image.open('dogs.jpeg') #import the image\n",
    "img.show()"
   ]
  },
  {
   "cell_type": "code",
   "execution_count": 3,
   "id": "cee72cd6",
   "metadata": {},
   "outputs": [],
   "source": [
    "import numpy as np\n",
    "imagearray=np.array(img) #this will convert the image in to a binary matrix."
   ]
  },
  {
   "cell_type": "code",
   "execution_count": 4,
   "id": "87d3e7a2",
   "metadata": {},
   "outputs": [
    {
     "data": {
      "text/plain": [
       "(185, 272, 3)"
      ]
     },
     "execution_count": 4,
     "metadata": {},
     "output_type": "execute_result"
    }
   ],
   "source": [
    "imagearray.shape #this is a 3 Dimensional array. the 3rd array stores the color data"
   ]
  },
  {
   "cell_type": "code",
   "execution_count": 20,
   "id": "af838585",
   "metadata": {},
   "outputs": [
    {
     "data": {
      "text/plain": [
       "150960"
      ]
     },
     "execution_count": 20,
     "metadata": {},
     "output_type": "execute_result"
    }
   ],
   "source": [
    "185*272*3 #total no.of elements in the array"
   ]
  },
  {
   "cell_type": "code",
   "execution_count": 6,
   "id": "853d6c2d",
   "metadata": {
    "scrolled": true
   },
   "outputs": [
    {
     "data": {
      "text/plain": [
       "array([[240, 240, 240],\n",
       "       [255, 255, 255],\n",
       "       [255, 255, 255],\n",
       "       ...,\n",
       "       [254, 254, 254],\n",
       "       [254, 254, 254],\n",
       "       [254, 254, 254]], dtype=uint8)"
      ]
     },
     "execution_count": 6,
     "metadata": {},
     "output_type": "execute_result"
    }
   ],
   "source": [
    "imagearray.reshape(-1,3)"
   ]
  },
  {
   "cell_type": "code",
   "execution_count": 7,
   "id": "9110d639",
   "metadata": {},
   "outputs": [
    {
     "data": {
      "text/plain": [
       "(50320, 3)"
      ]
     },
     "execution_count": 7,
     "metadata": {},
     "output_type": "execute_result"
    }
   ],
   "source": [
    "imagearray.reshape(-1,3).shape"
   ]
  },
  {
   "cell_type": "code",
   "execution_count": 8,
   "id": "98a62012",
   "metadata": {},
   "outputs": [
    {
     "data": {
      "text/plain": [
       "150960"
      ]
     },
     "execution_count": 8,
     "metadata": {},
     "output_type": "execute_result"
    }
   ],
   "source": [
    "50320*3"
   ]
  },
  {
   "cell_type": "markdown",
   "id": "55c9f214",
   "metadata": {},
   "source": [
    "For the clustering we are using K mean"
   ]
  },
  {
   "cell_type": "code",
   "execution_count": 9,
   "id": "a6cd68e3",
   "metadata": {},
   "outputs": [
    {
     "data": {
      "text/plain": [
       "KMeans(n_clusters=3)"
      ]
     },
     "execution_count": 9,
     "metadata": {},
     "output_type": "execute_result"
    }
   ],
   "source": [
    "from sklearn.cluster import KMeans\n",
    "km = KMeans(n_clusters=3)\n",
    "km.fit(imagearray.reshape(-1,3))"
   ]
  },
  {
   "cell_type": "code",
   "execution_count": 10,
   "id": "1976b3c8",
   "metadata": {},
   "outputs": [],
   "source": [
    "img_seg=km.cluster_centers_"
   ]
  },
  {
   "cell_type": "code",
   "execution_count": 11,
   "id": "c4f0c256",
   "metadata": {},
   "outputs": [
    {
     "data": {
      "text/plain": [
       "array([0, 0, 0, ..., 0, 0, 0])"
      ]
     },
     "execution_count": 11,
     "metadata": {},
     "output_type": "execute_result"
    }
   ],
   "source": [
    "km.labels_"
   ]
  },
  {
   "cell_type": "code",
   "execution_count": 12,
   "id": "f56b436e",
   "metadata": {
    "scrolled": true
   },
   "outputs": [],
   "source": [
    "img_seg=img_seg[km.labels_]"
   ]
  },
  {
   "cell_type": "code",
   "execution_count": 13,
   "id": "148f7998",
   "metadata": {},
   "outputs": [
    {
     "data": {
      "text/plain": [
       "array([[251.46909476, 247.64969019, 243.10790388],\n",
       "       [251.46909476, 247.64969019, 243.10790388],\n",
       "       [251.46909476, 247.64969019, 243.10790388],\n",
       "       ...,\n",
       "       [251.46909476, 247.64969019, 243.10790388],\n",
       "       [251.46909476, 247.64969019, 243.10790388],\n",
       "       [251.46909476, 247.64969019, 243.10790388]])"
      ]
     },
     "execution_count": 13,
     "metadata": {},
     "output_type": "execute_result"
    }
   ],
   "source": [
    "img_seg"
   ]
  },
  {
   "cell_type": "code",
   "execution_count": 14,
   "id": "a5277482",
   "metadata": {},
   "outputs": [],
   "source": [
    "img_seg=img_seg.reshape(imagearray.shape)"
   ]
  },
  {
   "cell_type": "code",
   "execution_count": 15,
   "id": "9d1d046b",
   "metadata": {},
   "outputs": [],
   "source": [
    "img = Image.fromarray(img_seg, 'RGB')\n",
    "img.save('my.png')\n",
    "img.show()"
   ]
  },
  {
   "cell_type": "code",
   "execution_count": 16,
   "id": "21aa5ee9",
   "metadata": {},
   "outputs": [
    {
     "data": {
      "text/plain": [
       "array([[251.46909476, 247.64969019, 243.10790388],\n",
       "       [ 29.50349995,  21.57579569,  20.47107076],\n",
       "       [210.58877124, 174.7632767 , 143.63342362]])"
      ]
     },
     "execution_count": 16,
     "metadata": {},
     "output_type": "execute_result"
    }
   ],
   "source": [
    "km.cluster_centers_"
   ]
  },
  {
   "cell_type": "code",
   "execution_count": 17,
   "id": "98bc4d73",
   "metadata": {},
   "outputs": [],
   "source": [
    "img_dom=km.cluster_centers_/255 #by dividing by 255 we are converting each standardized value to scaled value"
   ]
  },
  {
   "cell_type": "code",
   "execution_count": 18,
   "id": "627ef1d5",
   "metadata": {},
   "outputs": [
    {
     "data": {
      "image/png": "[encoded data removed]",
      "text/plain": [
       "<Figure size 432x288 with 1 Axes>"
      ]
     },
     "metadata": {
      "needs_background": "light"
     },
     "output_type": "display_data"
    }
   ],
   "source": [
    "import matplotlib.image as img\n",
    "import matplotlib.pyplot as plt\n",
    "plt.imshow([img_dom])\n",
    "plt.show()"
   ]
  },
  {
   "cell_type": "markdown",
   "id": "f32ef922",
   "metadata": {},
   "source": [
    "We got the three most dominant colours. Now as an activity lets check the elbow plot and do the same for more number of clusters"
   ]
  },
  {
   "cell_type": "code",
   "execution_count": 27,
   "id": "a89c0aa5",
   "metadata": {},
   "outputs": [
    {
     "data": {
      "image/png": "[encoded data removed]",
      "text/plain": [
       "<Figure size 432x288 with 1 Axes>"
      ]
     },
     "metadata": {
      "needs_background": "light"
     },
     "output_type": "display_data"
    }
   ],
   "source": [
    "cluster_range= range(2,15)\n",
    "inertia = []\n",
    "\n",
    "for num in cluster_range:\n",
    "  km = KMeans(num)\n",
    "  km.fit(imagearray.reshape(-1,3))\n",
    "  inertia.append(km.inertia_)\n",
    "\n",
    "plt.plot(cluster_range,inertia,marker=\"o\")\n",
    "plt.xlabel(\"Number of clusters\")\n",
    "plt.ylabel(\"Inertia\")\n",
    "plt.show()"
   ]
  },
  {
   "cell_type": "markdown",
   "id": "33e9907e",
   "metadata": {},
   "source": [
    "Lets check clusters num as 6."
   ]
  },
  {
   "cell_type": "code",
   "execution_count": 28,
   "id": "173fa8dc",
   "metadata": {},
   "outputs": [],
   "source": [
    "km = KMeans(n_clusters=6)\n",
    "km.fit(imagearray.reshape(-1,3))\n",
    "img_seg=km.cluster_centers_\n",
    "img_seg=img_seg[km.labels_]"
   ]
  },
  {
   "cell_type": "code",
   "execution_count": 29,
   "id": "527e1d7c",
   "metadata": {},
   "outputs": [
    {
     "data": {
      "text/plain": [
       "array([[253.41408348, 252.816268  , 251.71253356],\n",
       "       [253.41408348, 252.816268  , 251.71253356],\n",
       "       [253.41408348, 252.816268  , 251.71253356],\n",
       "       ...,\n",
       "       [253.41408348, 252.816268  , 251.71253356],\n",
       "       [253.41408348, 252.816268  , 251.71253356],\n",
       "       [253.41408348, 252.816268  , 251.71253356]])"
      ]
     },
     "execution_count": 29,
     "metadata": {},
     "output_type": "execute_result"
    }
   ],
   "source": [
    "img_seg"
   ]
  },
  {
   "cell_type": "code",
   "execution_count": 30,
   "id": "0dcbce95",
   "metadata": {},
   "outputs": [],
   "source": [
    "img_seg=img_seg.reshape(imagearray.shape)\n",
    "img = Image.fromarray(img_seg, 'RGB')\n",
    "img.save('my.png')\n",
    "img.show()"
   ]
  },
  {
   "cell_type": "code",
   "execution_count": 31,
   "id": "94c0aae5",
   "metadata": {},
   "outputs": [
    {
     "data": {
      "text/plain": [
       "array([[  9.40573695,   5.7146283 ,   5.7154584 ],\n",
       "       [237.38131071, 212.84375428, 187.69380216],\n",
       "       [211.49399021, 171.66656774, 137.40940792],\n",
       "       [138.50408497, 106.39419935,  86.1499183 ],\n",
       "       [253.41408348, 252.816268  , 251.71253356],\n",
       "       [ 51.9796785 ,  39.68304519,  38.57628147]])"
      ]
     },
     "execution_count": 31,
     "metadata": {},
     "output_type": "execute_result"
    }
   ],
   "source": [
    "km.cluster_centers_"
   ]
  },
  {
   "cell_type": "code",
   "execution_count": 32,
   "id": "777ae452",
   "metadata": {},
   "outputs": [],
   "source": [
    "img_dom=km.cluster_centers_/255"
   ]
  },
  {
   "cell_type": "code",
   "execution_count": 33,
   "id": "3ea6d345",
   "metadata": {},
   "outputs": [
    {
     "data": {
      "image/png": "[encoded data removed]",
      "text/plain": [
       "<Figure size 432x288 with 1 Axes>"
      ]
     },
     "metadata": {
      "needs_background": "light"
     },
     "output_type": "display_data"
    }
   ],
   "source": [
    "import matplotlib.image as img\n",
    "import matplotlib.pyplot as plt\n",
    "plt.imshow([img_dom])\n",
    "plt.show()"
   ]
  }
 ],
 "metadata": {
  "kernelspec": {
   "display_name": "Python 3 (ipykernel)",
   "language": "python",
   "name": "python3"
  },
  "language_info": {
   "codemirror_mode": {
    "name": "ipython",
    "version": 3
   },
   "file_extension": ".py",
   "mimetype": "text/x-python",
   "name": "python",
   "nbconvert_exporter": "python",
   "pygments_lexer": "ipython3",
   "version": "3.9.7"
  }
 },
 "nbformat": 4,
 "nbformat_minor": 5
}
