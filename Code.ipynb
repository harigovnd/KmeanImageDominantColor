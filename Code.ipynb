{
 "cells": [
  {
   "cell_type": "markdown",
   "id": "3da8193b",
   "metadata": {},
   "source": [
    "Use k-means clustering for image segmentation and to identify dominant color in the image"
   ]
  },
  {
   "cell_type": "code",
   "execution_count": 1,
   "id": "acf3f99d",
   "metadata": {},
   "outputs": [],
   "source": [
    "from PIL import Image\n",
    "import matplotlib.pyplot as plt"
   ]
  },
  {
   "cell_type": "code",
   "execution_count": 2,
   "id": "39dad535",
   "metadata": {},
   "outputs": [],
   "source": [
    "img = Image.open('dogs.jpeg')\n",
    "img.show()"
   ]
  },
  {
   "cell_type": "code",
   "execution_count": 3,
   "id": "cee72cd6",
   "metadata": {},
   "outputs": [],
   "source": [
    "import numpy as np\n",
    "imagearray=np.array(img)"
   ]
  },
  {
   "cell_type": "code",
   "execution_count": 4,
   "id": "87d3e7a2",
   "metadata": {},
   "outputs": [
    {
     "data": {
      "text/plain": [
       "(185, 272, 3)"
      ]
     },
     "execution_count": 4,
     "metadata": {},
     "output_type": "execute_result"
    }
   ],
   "source": [
    "imagearray.shape"
   ]
  },
  {
   "cell_type": "code",
   "execution_count": 5,
   "id": "af838585",
   "metadata": {},
   "outputs": [
    {
     "data": {
      "text/plain": [
       "151515"
      ]
     },
     "execution_count": 5,
     "metadata": {},
     "output_type": "execute_result"
    }
   ],
   "source": [
    "185*273*3"
   ]
  },
  {
   "cell_type": "code",
   "execution_count": 6,
   "id": "853d6c2d",
   "metadata": {
    "scrolled": true
   },
   "outputs": [
    {
     "data": {
      "text/plain": [
       "array([[240, 240, 240],\n",
       "       [255, 255, 255],\n",
       "       [255, 255, 255],\n",
       "       ...,\n",
       "       [254, 254, 254],\n",
       "       [254, 254, 254],\n",
       "       [254, 254, 254]], dtype=uint8)"
      ]
     },
     "execution_count": 6,
     "metadata": {},
     "output_type": "execute_result"
    }
   ],
   "source": [
    "imagearray.reshape(-1,3)"
   ]
  },
  {
   "cell_type": "code",
   "execution_count": 7,
   "id": "9110d639",
   "metadata": {},
   "outputs": [
    {
     "data": {
      "text/plain": [
       "(50320, 3)"
      ]
     },
     "execution_count": 7,
     "metadata": {},
     "output_type": "execute_result"
    }
   ],
   "source": [
    "imagearray.reshape(-1,3).shape"
   ]
  },
  {
   "cell_type": "code",
   "execution_count": 8,
   "id": "98a62012",
   "metadata": {},
   "outputs": [
    {
     "data": {
      "text/plain": [
       "150960"
      ]
     },
     "execution_count": 8,
     "metadata": {},
     "output_type": "execute_result"
    }
   ],
   "source": [
    "50320*3"
   ]
  },
  {
   "cell_type": "code",
   "execution_count": 9,
   "id": "a6cd68e3",
   "metadata": {},
   "outputs": [
    {
     "data": {
      "text/plain": [
       "KMeans(n_clusters=3)"
      ]
     },
     "execution_count": 9,
     "metadata": {},
     "output_type": "execute_result"
    }
   ],
   "source": [
    "from sklearn.cluster import KMeans\n",
    "km = KMeans(n_clusters=3)\n",
    "km.fit(imagearray.reshape(-1,3))"
   ]
  },
  {
   "cell_type": "code",
   "execution_count": 10,
   "id": "1976b3c8",
   "metadata": {},
   "outputs": [],
   "source": [
    "img_seg=km.cluster_centers_"
   ]
  },
  {
   "cell_type": "code",
   "execution_count": 11,
   "id": "c4f0c256",
   "metadata": {},
   "outputs": [
    {
     "data": {
      "text/plain": [
       "array([0, 0, 0, ..., 0, 0, 0])"
      ]
     },
     "execution_count": 11,
     "metadata": {},
     "output_type": "execute_result"
    }
   ],
   "source": [
    "km.labels_"
   ]
  },
  {
   "cell_type": "code",
   "execution_count": 12,
   "id": "f56b436e",
   "metadata": {
    "scrolled": true
   },
   "outputs": [],
   "source": [
    "img_seg=img_seg[km.labels_]"
   ]
  },
  {
   "cell_type": "code",
   "execution_count": 13,
   "id": "148f7998",
   "metadata": {},
   "outputs": [
    {
     "data": {
      "text/plain": [
       "array([[251.43414708, 247.55183846, 242.94861362],\n",
       "       [251.43414708, 247.55183846, 242.94861362],\n",
       "       [251.43414708, 247.55183846, 242.94861362],\n",
       "       ...,\n",
       "       [251.43414708, 247.55183846, 242.94861362],\n",
       "       [251.43414708, 247.55183846, 242.94861362],\n",
       "       [251.43414708, 247.55183846, 242.94861362]])"
      ]
     },
     "execution_count": 13,
     "metadata": {},
     "output_type": "execute_result"
    }
   ],
   "source": [
    "img_seg"
   ]
  },
  {
   "cell_type": "code",
   "execution_count": 14,
   "id": "a5277482",
   "metadata": {},
   "outputs": [],
   "source": [
    "img_seg=img_seg.reshape(imagearray.shape)"
   ]
  },
  {
   "cell_type": "code",
   "execution_count": 15,
   "id": "9d1d046b",
   "metadata": {},
   "outputs": [],
   "source": [
    "img = Image.fromarray(img_seg, 'RGB')\n",
    "img.save('my.png')\n",
    "img.show()"
   ]
  },
  {
   "cell_type": "code",
   "execution_count": 26,
   "id": "21aa5ee9",
   "metadata": {},
   "outputs": [
    {
     "data": {
      "text/plain": [
       "array([[251.43414708, 247.55183846, 242.94861362],\n",
       "       [ 29.48793962,  21.56369305,  20.46157633],\n",
       "       [210.432682  , 174.5617116 , 143.41124577]])"
      ]
     },
     "execution_count": 26,
     "metadata": {},
     "output_type": "execute_result"
    }
   ],
   "source": [
    "km.cluster_centers_"
   ]
  },
  {
   "cell_type": "code",
   "execution_count": 43,
   "id": "627ef1d5",
   "metadata": {},
   "outputs": [
    {
     "data": {
      "image/png": "[encoded data removed]",
      "text/plain": [
       "<Figure size 432x288 with 1 Axes>"
      ]
     },
     "metadata": {
      "needs_background": "light"
     },
     "output_type": "display_data"
    }
   ],
   "source": [
    "import matplotlib.image as img\n",
    "import matplotlib.pyplot as plt\n",
    "plt.imshow([km.cluster_centers_/255])\n",
    "plt.show()"
   ]
  },
  {
   "cell_type": "code",
   "execution_count": null,
   "id": "e0c4dfc5",
   "metadata": {},
   "outputs": [],
   "source": []
  }
 ],
 "metadata": {
  "kernelspec": {
   "display_name": "Python 3 (ipykernel)",
   "language": "python",
   "name": "python3"
  },
  "language_info": {
   "codemirror_mode": {
    "name": "ipython",
    "version": 3
   },
   "file_extension": ".py",
   "mimetype": "text/x-python",
   "name": "python",
   "nbconvert_exporter": "python",
   "pygments_lexer": "ipython3",
   "version": "3.9.7"
  }
 },
 "nbformat": 4,
 "nbformat_minor": 5
}
